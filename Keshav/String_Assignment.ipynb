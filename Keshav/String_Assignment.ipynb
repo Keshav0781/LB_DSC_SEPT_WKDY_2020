{
  "nbformat": 4,
  "nbformat_minor": 0,
  "metadata": {
    "colab": {
      "name": "String_Assignment.ipynb",
      "provenance": [],
      "collapsed_sections": []
    },
    "kernelspec": {
      "name": "python3",
      "display_name": "Python 3"
    }
  },
  "cells": [
    {
      "cell_type": "code",
      "metadata": {
        "id": "OG2JlAXx3VoJ",
        "colab_type": "code",
        "colab": {
          "base_uri": "https://localhost:8080/",
          "height": 34
        },
        "outputId": "a9fcf0d2-b6c2-4caf-e4bf-a05508ab75a5"
      },
      "source": [
        "#Declare a string and store it in a variable. \n",
        "\n",
        "a = 'Keshav'\n",
        "\n",
        "#Check the type and print the id of the same.\n",
        "\n",
        "print(type(a),id(a))"
      ],
      "execution_count": 1,
      "outputs": [
        {
          "output_type": "stream",
          "text": [
            "<class 'str'> 139934844699960\n"
          ],
          "name": "stdout"
        }
      ]
    },
    {
      "cell_type": "code",
      "metadata": {
        "id": "wPxm3G8W3dqN",
        "colab_type": "code",
        "colab": {}
      },
      "source": [
        "#Which are valid/invalid strings\n",
        "1. 'This is Python class'\n",
        "valid/invalid\n",
        "# Valid\n",
        "2. \"This is Python class\"\n",
        "valid/invalid\n",
        "# Valid\n",
        "3. '''This is Python class'''\n",
        "valid/invalid\n",
        "# Valid\n",
        "4. \"\"\"This is Python class\"\"\"\n",
        "valid/invalid\n",
        "# Valid\n",
        "5. 'This is Python's class'\n",
        "valid/invalid\n",
        "# InValid\n",
        "6. \"Learnbay provides \"Java\", \"Python\" classes\"\n",
        "valid/invalid\n",
        "# Invalid\n",
        "7. \"Learnbay provides 'Java', 'Python' classes\"\n",
        "valid/invalid\n",
        "# Valid\n",
        "8. \"This is Python's class\"\n",
        "valid/invalid\n",
        "# Valid\n",
        "9. \"\"\"Learnbay provides \"Java\", \"Python\" classes\"\"\"\n",
        "valid/invalid\n",
        "# Valid\n",
        "10. '''Learnbay provides \"Java\", \"Python\" classes'''\n",
        "valid/invalid   \n",
        "# Valid\n",
        "11. '''Learnbay provides\n",
        "\"Java\", \"Python\" \n",
        "classes'''\n",
        "valid/invalid\n",
        "# Valid\n",
        "12. 'This is\n",
        "Python \n",
        "class'\n",
        "valid/invalid\n",
        "# Invalid\n"
      ],
      "execution_count": null,
      "outputs": []
    },
    {
      "cell_type": "code",
      "metadata": {
        "id": "Drx8fhT23g7a",
        "colab_type": "code",
        "colab": {
          "base_uri": "https://localhost:8080/",
          "height": 68
        },
        "outputId": "440d08a0-3f23-4556-a769-5b8e26bb71d9"
      },
      "source": [
        "#Write the code to get the output mentioned below print statement\n",
        "my_str = \"Although that way may not be obvious at first unless you're Dutch.\"\n",
        "my_str1 = \"Although that way may not be obvious at first unless you're Dutch.\"\n",
        "\n",
        "print('The length of {} is '.format('my_str'), len(my_str))\n",
        "#output:- The length of my_str is 66\n",
        "\n",
        "print(id(my_str),id(my_str1))\n",
        "#output:- id of my_str and my_str1 is same? - True\n",
        "#Id of my_str and my_str1 is not same because space character is not follow object reusability. If we can replace it by '_' then id will be same.\n",
        "\n",
        "print(type(my_str))\n",
        "#output:- Type of my_str is: str"
      ],
      "execution_count": 2,
      "outputs": [
        {
          "output_type": "stream",
          "text": [
            "The length of my_str is  66\n",
            "139934845085256 139934845085016\n",
            "<class 'str'>\n"
          ],
          "name": "stdout"
        }
      ]
    },
    {
      "cell_type": "code",
      "metadata": {
        "id": "403e-I3A3lCO",
        "colab_type": "code",
        "colab": {
          "base_uri": "https://localhost:8080/",
          "height": 119
        },
        "outputId": "cb2407a4-7669-4538-f0aa-abe332cc9ed0"
      },
      "source": [
        "#Indexing\n",
        "my_str = \"Although 8 that way may not be obvious at first unless you're Dutch\"\n",
        "#Write the code to get the output,instructions are mentioned below print statement. use indexing\n",
        "\n",
        "print('The first character in {} is: '.format('my_str'), my_str[0])\n",
        "#output:- The first character in my_str is: A\n",
        "#Note:- Use positive indexing\n",
        "\n",
        "print('The first character in {} is: '.format('my_str'), my_str[-len(my_str)])\n",
        "#output:- The first character in my_str is: A\n",
        "#Note:- Use len() function.\n",
        "\n",
        "print('The character at index 10 in {} is: '.format('my_str'),my_str[10])\n",
        "#output:- The character at index 10 in my_str is: \" \"\n",
        "#Note:- Use positive indexing\n",
        "\n",
        "print('The last character in {} is: '.format('my_str'),my_str[-1])\n",
        "#output:- The last character in my_str is: h\n",
        "#Note:- Use negative indexing.\n",
        "\n",
        "print('The last character in {} is: '.format('my_str'), my_str[len(my_str)-1])\n",
        "#output:- The last character in my_str is: h\n",
        "#Note:- Use len() function.\n",
        "\n",
        "print('The character at index 10 in {} is: '.format('my_str'),my_str[9])\n",
        "#output:- The character in my_str is: 8\n",
        "#Note:- Use positive index"
      ],
      "execution_count": 3,
      "outputs": [
        {
          "output_type": "stream",
          "text": [
            "The first character in my_str is:  A\n",
            "The first character in my_str is:  A\n",
            "The character at index 10 in my_str is:   \n",
            "The last character in my_str is:  h\n",
            "The last character in my_str is:  h\n",
            "The character at index 10 in my_str is:  8\n"
          ],
          "name": "stdout"
        }
      ]
    },
    {
      "cell_type": "code",
      "metadata": {
        "id": "NK_QdtsM3luu",
        "colab_type": "code",
        "colab": {
          "base_uri": "https://localhost:8080/",
          "height": 255
        },
        "outputId": "45d61802-bebf-45e0-f468-0dc4871ee6df"
      },
      "source": [
        "#Slicing\n",
        "my_str = \"Although that way may not be obvious at first unless you're Dutch.\"\n",
        "#Write the code to get the output,instructions are mentioned below print statement. use slicing\n",
        "print(my_str[::])\n",
        "#output:- You have sliced: Although that way may not be obvious at first unless you're Dutch.Without begin, end and step\n",
        "\n",
        "\n",
        "print(my_str[0:len(my_str)])\n",
        "#output:- You have sliced: Although that way may not be obvious at first unless you're Dutch.with begin as 0 end using len and without step\n",
        "\n",
        "\n",
        "print(my_str[::1])\n",
        "#output:- You have sliced: Although that way may not be obvious at first unless you're Dutch.without begin and end but using step\n",
        "\n",
        "\n",
        "print(my_str[0:len(my_str):1])\n",
        "#output:- You have sliced: Although that way may not be obvious at first unless you're Dutch.With begin, end and step\n",
        "\n",
        "\n",
        "print(my_str[0:len(my_str):-1])\n",
        "#output:- You have sliced:   .with using begin and end using postive values and step as negative values.\n",
        "#Slicing command should print empty string.\n",
        "\n",
        "\n",
        "print(my_str[::2])\n",
        "#output:- You have sliced: Atog htwymyntb biu tfrtuls o'eDth\n",
        "\n",
        "\n",
        "print(my_str[::3])\n",
        "#output:- You have sliced: Ahgttam tebo  r lsorDc\n",
        "\n",
        "\n",
        "print(my_str[::-1])\n",
        "#output:- You have sliced: .hctuD er'uoy sselnu tsrif ta suoivbo eb ton yam yaw taht hguohtlA. Use only step\n",
        "\n",
        "\n",
        "print(my_str[len(my_str):-len(my_str)-1:-1])\n",
        "#output:- You have sliced: .hctuD er'uoy sselnu tsrif ta suoivbo eb ton yam yaw taht hguohtlA. Use begin end and step.\n",
        "\n",
        "\n",
        "print(my_str[::-2])\n",
        "#output:- You have sliced: .cu ruysen si asovoe o a a athuhl. use only step\n",
        "\n",
        "\n",
        "print(my_str[len(my_str):-len(my_str)-1:-2])\n",
        "#output:- You have sliced: .cu ruysen si asovoe o a a athuhl. use begin, end and step.\n",
        "\n",
        "\n",
        "print(my_str[10:17:-1])\n",
        "#What will be the output?\n",
        "# It will print empty string.\n",
        "\n",
        "print(my_str[16:10:-1])\n",
        "#output:- You have sliced: yaw ta, Using begin, end and step.\n",
        "\n",
        "print(my_str[49:56:1])\n",
        "#output:- You have sliced: ess you. Using begin, end and step."
      ],
      "execution_count": 4,
      "outputs": [
        {
          "output_type": "stream",
          "text": [
            "Although that way may not be obvious at first unless you're Dutch.\n",
            "Although that way may not be obvious at first unless you're Dutch.\n",
            "Although that way may not be obvious at first unless you're Dutch.\n",
            "Although that way may not be obvious at first unless you're Dutch.\n",
            "\n",
            "Atog htwymyntb biu tfrtuls o'eDth\n",
            "Ahgttam tebo  r lsorDc\n",
            ".hctuD er'uoy sselnu tsrif ta suoivbo eb ton yam yaw taht hguohtlA\n",
            ".hctuD er'uoy sselnu tsrif ta suoivbo eb ton yam yaw taht hguohtlA\n",
            ".cu ruysen si asovoe o a a athuhl\n",
            ".cu ruysen si asovoe o a a athuhl\n",
            "\n",
            "yaw ta\n",
            "ess you\n"
          ],
          "name": "stdout"
        }
      ]
    },
    {
      "cell_type": "code",
      "metadata": {
        "id": "qUSYa5x-3n5j",
        "colab_type": "code",
        "colab": {
          "base_uri": "https://localhost:8080/",
          "height": 51
        },
        "outputId": "c8e945a7-6d42-4672-f278-49636003a142"
      },
      "source": [
        "#Basic operation on string\n",
        "str1 = 'Learnbay'\n",
        "str2 = 'Python'\n",
        "\n",
        "#Write the code to get the output,instructions are mentioned below.\n",
        "\n",
        "str1 = 'Learnbay '\n",
        "str2 = 'Python'\n",
        "print(str1 + str2)\n",
        "\n",
        "#Output is: Learnbay Python\n",
        "\n",
        "\n",
        "#Error: TypeError: can only concatenate str (not \"int\") to str\n",
        "\n",
        "#print(str1+10)\n",
        "\n",
        "#Error: TypeError: can only concatenate str (not \"float\") to str\n",
        "\n",
        "#print(str2+10.52)\n",
        "\n",
        "#Find below Output\n",
        "#Output is: LearnbayLearnbayLearnbay\n",
        "str1 = 'Learnbay'\n",
        "print(str1*3)\n",
        "\n",
        "#Error: TypeError: can't multiply sequence by non-int of type 'float'\n",
        "\n",
        "#print(str1*10.52)\n",
        "\n",
        "#Error: TypeError: can't multiply sequence by non-int of type 'str'\n",
        "#print(str1*str2)\n",
        "\n"
      ],
      "execution_count": 9,
      "outputs": [
        {
          "output_type": "stream",
          "text": [
            "Learnbay Python\n",
            "LearnbayLearnbayLearnbay\n"
          ],
          "name": "stdout"
        }
      ]
    },
    {
      "cell_type": "code",
      "metadata": {
        "id": "gREffmnr3s-p",
        "colab_type": "code",
        "colab": {
          "base_uri": "https://localhost:8080/",
          "height": 119
        },
        "outputId": "12d21b6b-9768-49a1-d0d5-14d4c3a8c089"
      },
      "source": [
        "#Find below Output\n",
        "str1 = 'Python'\n",
        "str2 = 'Python'\n",
        "str3 = 'Python$'\n",
        "str4 = 'Python$'\n",
        "\n",
        "#print True by using identity operator between str1 and str2\n",
        "\n",
        "print(str1 is str2)\n",
        "\n",
        "#print False by using identity operator between str1 and str3\n",
        "\n",
        "print(str1 is str3)\n",
        "\n",
        "#print False by using identity operator between str4 and str3\n",
        "\n",
        "print(str4 is str3)\n",
        "\n",
        "#Check if P is available in str1 and print True by using membership operator\n",
        "\n",
        "print('P' in str1)\n",
        "\n",
        "#Check if $ is available in str3 and print True by using membership operator\n",
        "\n",
        "print('$' in str3)\n",
        "\n",
        "#Check if N is available in str3 and print False by using membership operator\n",
        "\n",
        "print('N' in str3)"
      ],
      "execution_count": 10,
      "outputs": [
        {
          "output_type": "stream",
          "text": [
            "True\n",
            "False\n",
            "False\n",
            "True\n",
            "True\n",
            "False\n"
          ],
          "name": "stdout"
        }
      ]
    },
    {
      "cell_type": "code",
      "metadata": {
        "id": "QNFjxDr73u2H",
        "colab_type": "code",
        "colab": {
          "base_uri": "https://localhost:8080/",
          "height": 231
        },
        "outputId": "b0d344f4-b679-4ef1-a8c3-d0392eb1b519"
      },
      "source": [
        "#Complete the below code\n",
        "str1 = 'This is Python class'\n",
        "#write the code to replace 'Python' with 'Java' and you should get below error.\n",
        "#TypeError: 'str' object does not support item assignment.\n",
        "\n",
        "print(str1.replace('Python','Java'))\n",
        "\n",
        "#Without using replace() it will throw error\n",
        "str1[8:14]='Java'\n",
        "print(str)"
      ],
      "execution_count": 11,
      "outputs": [
        {
          "output_type": "stream",
          "text": [
            "This is Java class\n"
          ],
          "name": "stdout"
        },
        {
          "output_type": "error",
          "ename": "TypeError",
          "evalue": "ignored",
          "traceback": [
            "\u001b[0;31m---------------------------------------------------------------------------\u001b[0m",
            "\u001b[0;31mTypeError\u001b[0m                                 Traceback (most recent call last)",
            "\u001b[0;32m<ipython-input-11-a418e30a3e40>\u001b[0m in \u001b[0;36m<module>\u001b[0;34m()\u001b[0m\n\u001b[1;32m      7\u001b[0m \u001b[0;34m\u001b[0m\u001b[0m\n\u001b[1;32m      8\u001b[0m \u001b[0;31m#Without using replace() it will throw error\u001b[0m\u001b[0;34m\u001b[0m\u001b[0;34m\u001b[0m\u001b[0;34m\u001b[0m\u001b[0m\n\u001b[0;32m----> 9\u001b[0;31m \u001b[0mstr1\u001b[0m\u001b[0;34m[\u001b[0m\u001b[0;36m8\u001b[0m\u001b[0;34m:\u001b[0m\u001b[0;36m14\u001b[0m\u001b[0;34m]\u001b[0m\u001b[0;34m=\u001b[0m\u001b[0;34m'Java'\u001b[0m\u001b[0;34m\u001b[0m\u001b[0;34m\u001b[0m\u001b[0m\n\u001b[0m\u001b[1;32m     10\u001b[0m \u001b[0mprint\u001b[0m\u001b[0;34m(\u001b[0m\u001b[0mstr\u001b[0m\u001b[0;34m)\u001b[0m\u001b[0;34m\u001b[0m\u001b[0;34m\u001b[0m\u001b[0m\n",
            "\u001b[0;31mTypeError\u001b[0m: 'str' object does not support item assignment"
          ]
        }
      ]
    },
    {
      "cell_type": "code",
      "metadata": {
        "id": "-JgFbPmn3w3D",
        "colab_type": "code",
        "colab": {
          "base_uri": "https://localhost:8080/",
          "height": 119
        },
        "outputId": "0d66f5f5-2b63-4176-e8ce-d790b6f4b3d6"
      },
      "source": [
        "str1 = 'A'\n",
        "str2 = 'A'\n",
        "#Compare str1 and str2 and print True using comparison operator\n",
        "print(str1 <= str2)\n",
        "print(str1 >= str2)\n",
        "\n",
        "#Compare str1 and str2 and print True using equality operator\n",
        "\n",
        "print(str1 == str2)\n",
        "\n",
        "#Compare str1 and str2 and print False using equality operator\n",
        "\n",
        "print(str1 != str2)\n",
        "\n",
        "#Compare str1 and str2 and print False using comparison operator\n",
        "\n",
        "print(str1 < str2)\n",
        "print(str1 > str2)\n",
        "\n"
      ],
      "execution_count": 12,
      "outputs": [
        {
          "output_type": "stream",
          "text": [
            "True\n",
            "True\n",
            "True\n",
            "False\n",
            "False\n",
            "False\n"
          ],
          "name": "stdout"
        }
      ]
    },
    {
      "cell_type": "code",
      "metadata": {
        "id": "fJ46_L-53yhW",
        "colab_type": "code",
        "colab": {
          "base_uri": "https://localhost:8080/",
          "height": 85
        },
        "outputId": "75cf76d4-cf0e-42ea-b364-437deb271cd0"
      },
      "source": [
        "str1 = 'A'\n",
        "str2 = 'a'\n",
        "#Compare str1 and str2 and print True using comparison operator\n",
        "\n",
        "print(str1 < str2)\n",
        "\n",
        "#Compare str1 and str2 and print True using equality operator\n",
        "\n",
        "print(str1 != str2)\n",
        "\n",
        "#Compare str1 and str2 and print False using equality operator\n",
        "\n",
        "print(str1 == str2)\n",
        "\n",
        "#Compare str1 and str2 and print False using comparison operator\n",
        "\n",
        "print(str1 > str2)\n"
      ],
      "execution_count": 13,
      "outputs": [
        {
          "output_type": "stream",
          "text": [
            "True\n",
            "True\n",
            "False\n",
            "False\n"
          ],
          "name": "stdout"
        }
      ]
    },
    {
      "cell_type": "code",
      "metadata": {
        "id": "e-Lr9va330gi",
        "colab_type": "code",
        "colab": {
          "base_uri": "https://localhost:8080/",
          "height": 51
        },
        "outputId": "fa4d5339-aa3e-43e4-c4f8-9932f8ea2154"
      },
      "source": [
        "str1 = 'A'\n",
        "str2 = '65'\n",
        "#Compare str1 and str2 using comparison operator and it should give below error.\n",
        "\n",
        "'''It will not give any error since 65 is declare as a string, but if we use str2 = 65 then it will give above error\n",
        "str1 = 'A'\n",
        "str2 = 65\n",
        "print(str1 >= str2)'''\n",
        "\n",
        "#Error: TypeError: '>=' not supported between instances of 'str' and 'int'\n",
        "\n",
        "#Compare str1 and str2 and print True using equality operator\n",
        "str1 = 'A'\n",
        "str2 = '65'\n",
        "print(str1 != str2)\n",
        "\n",
        "#Compare str1 and str2 and print False using equality operator\n",
        "print(str1 == str2)"
      ],
      "execution_count": 14,
      "outputs": [
        {
          "output_type": "stream",
          "text": [
            "True\n",
            "False\n"
          ],
          "name": "stdout"
        }
      ]
    },
    {
      "cell_type": "code",
      "metadata": {
        "id": "JO04jmpN32Im",
        "colab_type": "code",
        "colab": {
          "base_uri": "https://localhost:8080/",
          "height": 85
        },
        "outputId": "41a0fcd3-485e-4582-c170-b8274b8c0db7"
      },
      "source": [
        "str1 = 'Python'\n",
        "str2 = 'Python'\n",
        "#Compare str1 and str2 and print True using comparison operator\n",
        "\n",
        "print(str1 >= str2)\n",
        "\n",
        "#Compare str1 and str2 and print True using equality operator\n",
        "\n",
        "print(str1 == str2)\n",
        "\n",
        "#Compare str1 and str2 and print False using equality operator\n",
        "\n",
        "print(str1 != str2)\n",
        "\n",
        "#Compare str1 and str2 and print False using comparison operator\n",
        "\n",
        "print(str1 > str2)"
      ],
      "execution_count": 15,
      "outputs": [
        {
          "output_type": "stream",
          "text": [
            "True\n",
            "True\n",
            "False\n",
            "False\n"
          ],
          "name": "stdout"
        }
      ]
    },
    {
      "cell_type": "code",
      "metadata": {
        "id": "nmVAYYC_35ip",
        "colab_type": "code",
        "colab": {
          "base_uri": "https://localhost:8080/",
          "height": 85
        },
        "outputId": "4d83ed3f-46d1-4fa6-c9ab-ed0f0e8bee52"
      },
      "source": [
        "str1 = 'Python'\n",
        "str2 = 'python'\n",
        "#Compare str1 and str2 and print True using comparison operator\n",
        "\n",
        "print(str1 <= str2)\n",
        "\n",
        "#Compare str1 and str2 and print True using equality operator\n",
        "\n",
        "print(str1 != str2)\n",
        "\n",
        "#Compare str1 and str2 and print False using equality operator\n",
        "\n",
        "print(str1 == str2)\n",
        "\n",
        "#Compare str1 and str2 and print False using comparison operator\n",
        "\n",
        "print(str1 >= str2)"
      ],
      "execution_count": 16,
      "outputs": [
        {
          "output_type": "stream",
          "text": [
            "True\n",
            "True\n",
            "False\n",
            "False\n"
          ],
          "name": "stdout"
        }
      ]
    },
    {
      "cell_type": "code",
      "metadata": {
        "id": "7ulv5ith37OJ",
        "colab_type": "code",
        "colab": {
          "base_uri": "https://localhost:8080/",
          "height": 102
        },
        "outputId": "a8806231-6ab2-45f5-ce90-f2635fb88e33"
      },
      "source": [
        "a = 'Python'\n",
        "b = ''\n",
        "\n",
        "#Apply logical opereators (and, or & not) on above string values and observe the output.\n",
        "print(a and b)\n",
        "print(b and a)\n",
        "print(a or b)\n",
        "print(not a)\n",
        "print(not b)"
      ],
      "execution_count": 17,
      "outputs": [
        {
          "output_type": "stream",
          "text": [
            "\n",
            "\n",
            "Python\n",
            "False\n",
            "True\n"
          ],
          "name": "stdout"
        }
      ]
    },
    {
      "cell_type": "code",
      "metadata": {
        "id": "Yg_gsZBL383n",
        "colab_type": "code",
        "colab": {
          "base_uri": "https://localhost:8080/",
          "height": 68
        },
        "outputId": "5c2f8d9d-9b00-4956-ef42-f9fb096ae8ca"
      },
      "source": [
        "a = ''\n",
        "b = ''\n",
        "\n",
        "#Apply logical opereators (and, or & not) on above string values and observe the output.\n",
        "print(a and b)\n",
        "print(a or b)\n",
        "print(not a)"
      ],
      "execution_count": 18,
      "outputs": [
        {
          "output_type": "stream",
          "text": [
            "\n",
            "\n",
            "True\n"
          ],
          "name": "stdout"
        }
      ]
    },
    {
      "cell_type": "code",
      "metadata": {
        "id": "cIWkP9Hf3-q5",
        "colab_type": "code",
        "colab": {
          "base_uri": "https://localhost:8080/",
          "height": 102
        },
        "outputId": "731c70f2-c9c9-49d8-bf8f-f80fdfbea7f1"
      },
      "source": [
        "a = 'Python'\n",
        "b = 'learnbay'\n",
        "\n",
        "#Apply logical opereators (and, or & not) on above string values and observe the output.\n",
        "print(a and b)\n",
        "print(b and a)\n",
        "print(a or b)\n",
        "print(not a)\n",
        "print(not b)"
      ],
      "execution_count": 19,
      "outputs": [
        {
          "output_type": "stream",
          "text": [
            "learnbay\n",
            "Python\n",
            "Python\n",
            "False\n",
            "False\n"
          ],
          "name": "stdout"
        }
      ]
    },
    {
      "cell_type": "code",
      "metadata": {
        "id": "Y0Ot_E704AX5",
        "colab_type": "code",
        "colab": {
          "base_uri": "https://localhost:8080/",
          "height": 153
        },
        "outputId": "937eb9a7-e3fa-483f-a1d9-0c6649f44945"
      },
      "source": [
        "my_str = \"Although 8 that way may not be obvious at first unless you're Dutch\"\n",
        "\n",
        "#Write the code to get the total count of 't' in above string. Use find() and index() method.\n",
        "# Using index()\n",
        "i = -1\n",
        "count =0\n",
        "while True:\n",
        "    i = my_str.find('t',i +1)\n",
        "    if i == -1:\n",
        "        break\n",
        "    else:\n",
        "        count+=1\n",
        "print(count)\n",
        "\n",
        "#Using find()\n",
        "i = -1\n",
        "count =0\n",
        "while True:\n",
        "    try :\n",
        "        i = my_str.index('t',i +1)\n",
        "    except ValueError:\n",
        "        break\n",
        "    else:\n",
        "        count+=1\n",
        "print(count)\n",
        "\n",
        "#Write the code to get the index of '8' in my_str. Use find() and index() method.\n",
        "print(my_str.find('8'))\n",
        "print(my_str.index('8'))\n",
        "\n",
        "#What will be the output of below code?\n",
        "print(my_str.find('the'))\n",
        "\n",
        "\n",
        "#print(my_str.index('the'))\n",
        "#ValueError\n",
        "\n",
        "print(my_str.find('t', 9, 15))\n",
        "\n",
        "\n",
        "print(my_str.rfind('u'))\n",
        "\n",
        "\n",
        "print(my_str.rindex('u'))\n",
        "\n"
      ],
      "execution_count": 21,
      "outputs": [
        {
          "output_type": "stream",
          "text": [
            "7\n",
            "7\n",
            "9\n",
            "9\n",
            "-1\n",
            "11\n",
            "63\n",
            "63\n"
          ],
          "name": "stdout"
        }
      ]
    },
    {
      "cell_type": "code",
      "metadata": {
        "id": "Gommq59Q4CMi",
        "colab_type": "code",
        "colab": {
          "base_uri": "https://localhost:8080/",
          "height": 51
        },
        "outputId": "a6dbd274-9c03-4905-dcb5-227b709f9d96"
      },
      "source": [
        "#W A P which applies strip() method if any string, which will be taken from user, starts and ends with space, or applies \n",
        "#rrstrip() method if that string only ends with space or applies lstrip() method if that string only starts with a space.\n",
        "\n",
        "#For example:-\n",
        "#input:- '    Python   '\n",
        "#output:- 'Python'\n",
        "\n",
        "#input:- '    Python'\n",
        "#output:- 'Python'\n",
        "\n",
        "#input:- 'Python   '\n",
        "#output:- 'Python'\n",
        "\n",
        "my_str = input(\"Enter a string: \")\n",
        "if my_str.startswith(' ') and my_str.endswith(' '):\n",
        "    print(\"Appling strip method as string start with and end with a space\", my_str.strip())\n",
        "elif my_str.startswith(' '):\n",
        "     print(\"Appling lstrip method as string start with a space: \", my_str.lstrip())\n",
        "else :\n",
        "     print(\"Appling rstrip method as string start with a space: \", my_str.rstrip())"
      ],
      "execution_count": 22,
      "outputs": [
        {
          "output_type": "stream",
          "text": [
            "Enter a string:  This is my strip program  \n",
            "Appling strip method as string start with and end with a space This is my strip program\n"
          ],
          "name": "stdout"
        }
      ]
    },
    {
      "cell_type": "code",
      "metadata": {
        "id": "9IUy-cpS4Dtt",
        "colab_type": "code",
        "colab": {
          "base_uri": "https://localhost:8080/",
          "height": 68
        },
        "outputId": "28cb3b97-3530-4956-e39f-e50d9f374eeb"
      },
      "source": [
        "my_str = \"Although 8 that way may not be obvious at first unless you're Dutch\"\n",
        "\n",
        "#Write the code to convert all alphabets in my_str into upper case.\n",
        "print(my_str.upper())\n",
        "\n",
        "#Write the code to convert all alphabets in my_str into lower case.\n",
        "print(my_str.lower())\n",
        "\n",
        "#Write the code to swap the cases of all alphabets in my_str.(lower to upper and upper to lower)\n",
        "print(my_str.swapcase())\n",
        "\n"
      ],
      "execution_count": 23,
      "outputs": [
        {
          "output_type": "stream",
          "text": [
            "ALTHOUGH 8 THAT WAY MAY NOT BE OBVIOUS AT FIRST UNLESS YOU'RE DUTCH\n",
            "although 8 that way may not be obvious at first unless you're dutch\n",
            "aLTHOUGH 8 THAT WAY MAY NOT BE OBVIOUS AT FIRST UNLESS YOU'RE dUTCH\n"
          ],
          "name": "stdout"
        }
      ]
    },
    {
      "cell_type": "code",
      "metadata": {
        "id": "-BjS-z674HKW",
        "colab_type": "code",
        "colab": {
          "base_uri": "https://localhost:8080/",
          "height": 51
        },
        "outputId": "80737add-8a96-44b4-a2c2-827e68b85d8f"
      },
      "source": [
        "#Write the code which takes one string from user and if it starts with small case letter then convert it to corresponding \n",
        "#capital letter otherwise if starts with capital letters then convert first character of every word in that string into capital.\n",
        "\n",
        "my_str = input(\"Enter a string: \")\n",
        "if my_str[0].islower():\n",
        "    print(my_str.capitalize())\n",
        "else :\n",
        "    print(my_str.title())"
      ],
      "execution_count": 27,
      "outputs": [
        {
          "output_type": "stream",
          "text": [
            "Enter a string: This is my class\n",
            "This Is My Class\n"
          ],
          "name": "stdout"
        }
      ]
    },
    {
      "cell_type": "code",
      "metadata": {
        "id": "-MCuDy5J4JQS",
        "colab_type": "code",
        "colab": {
          "base_uri": "https://localhost:8080/",
          "height": 187
        },
        "outputId": "4a1daba6-2475-4bee-b7a9-35bab7e1eb42"
      },
      "source": [
        "#Take a string from user and check if it is:-\n",
        "#     1. alphanumeric\n",
        "#     2. alphabets\n",
        "#     3. digit\n",
        "#     4. all letters are in lower case\n",
        "#     5. all letters are in upper case\n",
        "#     6. in title case\n",
        "#     7. a space character\n",
        "#     8. numeric\n",
        "#     9. all number elements in string are decimal\n",
        "\n",
        "my_str = input(\"Enter a string: \")\n",
        "print(my_str.isalnum())\n",
        "print(my_str.isalpha())\n",
        "print(my_str.isdigit())\n",
        "print(my_str.islower())\n",
        "print(my_str.isupper())\n",
        "print(my_str.istitle())\n",
        "print(my_str.isspace())\n",
        "print(my_str.isnumeric())\n",
        "print(my_str.isdecimal())"
      ],
      "execution_count": 29,
      "outputs": [
        {
          "output_type": "stream",
          "text": [
            "Enter a string: Python\n",
            "True\n",
            "True\n",
            "False\n",
            "False\n",
            "False\n",
            "True\n",
            "False\n",
            "False\n",
            "False\n"
          ],
          "name": "stdout"
        }
      ]
    },
    {
      "cell_type": "code",
      "metadata": {
        "id": "tiTN-4ik4KAG",
        "colab_type": "code",
        "colab": {
          "base_uri": "https://localhost:8080/",
          "height": 51
        },
        "outputId": "b65e473c-7e7a-4842-8888-a2cddcbe555b"
      },
      "source": [
        "#W A P which takes a string as an input and prints True if the string is valid identifier else returns False.\n",
        "#Sample Input:- 'abc', 'abc1', 'ab1c', '1abc', 'abc$', '_abc', 'if'\n",
        "\n",
        "my_str = input(\"Enter a string: \")\n",
        "print(my_str.isidentifier())"
      ],
      "execution_count": 30,
      "outputs": [
        {
          "output_type": "stream",
          "text": [
            "Enter a string: python123\n",
            "True\n"
          ],
          "name": "stdout"
        }
      ]
    },
    {
      "cell_type": "code",
      "metadata": {
        "id": "tAMkSIN84MPe",
        "colab_type": "code",
        "colab": {
          "base_uri": "https://localhost:8080/",
          "height": 85
        },
        "outputId": "9f781156-887f-4d52-dee3-6ef75744b371"
      },
      "source": [
        "#What will be output of below code?\n",
        "s = chr(65) + chr(97)\n",
        "print(s.isprintable())\n",
        "\n",
        "s = chr(27) + chr(97)\n",
        "print(s.isprintable())\n",
        "\n",
        "s = '\\n'\n",
        "print(s.isprintable())\n",
        "\n",
        "s = ''\n",
        "print(s.isprintable())"
      ],
      "execution_count": 31,
      "outputs": [
        {
          "output_type": "stream",
          "text": [
            "True\n",
            "False\n",
            "False\n",
            "True\n"
          ],
          "name": "stdout"
        }
      ]
    },
    {
      "cell_type": "code",
      "metadata": {
        "id": "pU9Os0mD4Pk1",
        "colab_type": "code",
        "colab": {}
      },
      "source": [
        "#What will be output of below code?\n",
        "my_string = '  '\n",
        "print(my_string.isascii())\n",
        "#True\n",
        "my_string = 'Studytonight'\n",
        "print(my_string.isascii())\n",
        "#True\n",
        "my_string = 'Study tonight'\n",
        "print(my_string.isascii())\n",
        "#True\n",
        "my_string = 'Studytonight@123'\n",
        "print(my_string.isascii())\n",
        "#True\n",
        "my_string = '°'\n",
        "print(my_string.isascii())\n",
        "#False\n",
        "my_string = 'ö'\n",
        "print(my_string.isascii())\n",
        "#False"
      ],
      "execution_count": null,
      "outputs": []
    },
    {
      "cell_type": "code",
      "metadata": {
        "id": "VsLV8FF74QTB",
        "colab_type": "code",
        "colab": {
          "base_uri": "https://localhost:8080/",
          "height": 34
        },
        "outputId": "69d6082f-5183-4039-cd5f-3757aafbafa0"
      },
      "source": [
        "#What will be the output of below code?\n",
        "firstString = \"der Fluß\"\n",
        "secondString = \"der Fluss\"\n",
        "\n",
        "if firstString.casefold() == secondString.casefold():\n",
        "    print('The strings are equal.')\n",
        "else:\n",
        "    print('The strings are not equal.')"
      ],
      "execution_count": 41,
      "outputs": [
        {
          "output_type": "stream",
          "text": [
            "The strings are equal.\n"
          ],
          "name": "stdout"
        }
      ]
    },
    {
      "cell_type": "code",
      "metadata": {
        "id": "1m0U7jLa4Wjf",
        "colab_type": "code",
        "colab": {
          "base_uri": "https://localhost:8080/",
          "height": 68
        },
        "outputId": "c85b3dfe-b293-4b5b-c6f0-ef763a2997f5"
      },
      "source": [
        "#Write the code to get below output\n",
        "#O/P 1:- python** (using ljust method)\n",
        "my_str = 'python'\n",
        "print(my_str.ljust(8, '*'))\n",
        "\n",
        "#Write the code to get below output\n",
        "#O/P 1:- **python (using rjust method)\n",
        "print(my_str.rjust(8, '*'))\n",
        "\n",
        "#Write the code to get below output\n",
        "#O/P 1:- **python** (using rjust method)\n",
        "print(my_str.center(10, '*'))"
      ],
      "execution_count": 43,
      "outputs": [
        {
          "output_type": "stream",
          "text": [
            "python**\n",
            "**python\n",
            "**python**\n"
          ],
          "name": "stdout"
        }
      ]
    },
    {
      "cell_type": "code",
      "metadata": {
        "id": "cRVkvW6s4YKK",
        "colab_type": "code",
        "colab": {
          "base_uri": "https://localhost:8080/",
          "height": 34
        },
        "outputId": "bdb5d4e1-b500-4638-f1aa-172982864178"
      },
      "source": [
        "#Write a Python program to find the length of the my_str:-\n",
        "\n",
        "#Input:- 'Write a Python program to find the length of the my_str'\n",
        "#Output:- 55\n",
        "\n",
        "my_str = 'Write a Python program to find the length of the my_str'\n",
        "print(len(my_str))"
      ],
      "execution_count": 44,
      "outputs": [
        {
          "output_type": "stream",
          "text": [
            "55\n"
          ],
          "name": "stdout"
        }
      ]
    },
    {
      "cell_type": "code",
      "metadata": {
        "id": "SjABWI284Zuz",
        "colab_type": "code",
        "colab": {
          "base_uri": "https://localhost:8080/",
          "height": 34
        },
        "outputId": "a9f415e4-ee00-4f83-d344-30504b171c9e"
      },
      "source": [
        "#Write a Python program to find the total number of times letter 'p' is appeared in the below string:-\n",
        "    \n",
        "#Input:- 'peter piper picked a peck of pickled peppers.'\n",
        "#Output:- 9\n",
        "\n",
        "my_str = 'peter piper picked a peck of pickled peppers.'\n",
        "print(my_str.count('p'))"
      ],
      "execution_count": 45,
      "outputs": [
        {
          "output_type": "stream",
          "text": [
            "9\n"
          ],
          "name": "stdout"
        }
      ]
    },
    {
      "cell_type": "code",
      "metadata": {
        "id": "-iZtqbEo4bQp",
        "colab_type": "code",
        "colab": {
          "base_uri": "https://localhost:8080/",
          "height": 170
        },
        "outputId": "3e72a956-5f35-45e2-a54f-2b49a74591f8"
      },
      "source": [
        "#Write a Python Program, to print all the indexes of all occurences of letter 'p' appeared in the string:-\n",
        "    \n",
        "#Input:- 'peter piper picked a peck of pickled peppers.'\n",
        "#Output:- \n",
        "# 0\n",
        "# 6\n",
        "# 8\n",
        "# 12\n",
        "# 21\n",
        "# 29\n",
        "# 37\n",
        "# 39\n",
        "# 40\n",
        "\n",
        "i=-1\n",
        "my_str = 'peter piper picked a peck of pickled peppers.'\n",
        "while True:\n",
        "    i = my_str.find('p',i+1)\n",
        "    if i ==-1:\n",
        "        break\n",
        "    else:\n",
        "        print(i)"
      ],
      "execution_count": 46,
      "outputs": [
        {
          "output_type": "stream",
          "text": [
            "0\n",
            "6\n",
            "8\n",
            "12\n",
            "21\n",
            "29\n",
            "37\n",
            "39\n",
            "40\n"
          ],
          "name": "stdout"
        }
      ]
    },
    {
      "cell_type": "code",
      "metadata": {
        "id": "_A8Eu8f84daM",
        "colab_type": "code",
        "colab": {
          "base_uri": "https://localhost:8080/",
          "height": 34
        },
        "outputId": "a858e02f-16a5-445a-8ca8-22472c4ba59b"
      },
      "source": [
        "#Write a python program to find below output:-\n",
        "\n",
        "#Input:- 'peter piper picked a peck of pickled peppers.'\n",
        "#Output:- ['peter', 'piper', 'picked', 'a', 'peck', 'of', 'pickled', 'peppers.']\n",
        "\n",
        "my_str='peter piper picked a peck of pickled peppers.'\n",
        "print(my_str.split())"
      ],
      "execution_count": 47,
      "outputs": [
        {
          "output_type": "stream",
          "text": [
            "['peter', 'piper', 'picked', 'a', 'peck', 'of', 'pickled', 'peppers.']\n"
          ],
          "name": "stdout"
        }
      ]
    },
    {
      "cell_type": "code",
      "metadata": {
        "id": "juh7tQuL4fNc",
        "colab_type": "code",
        "colab": {
          "base_uri": "https://localhost:8080/",
          "height": 34
        },
        "outputId": "1febaa5a-0199-4567-d976-0e9a5ef53123"
      },
      "source": [
        "#Write a python program to find below output:-\n",
        "\n",
        "#Input:- 'peter piper picked a peck of pickled peppers.'\n",
        "#Output:- 'peppers. pickled of peck a picked piper peter'\n",
        "\n",
        "print(' '.join(my_str.split()[::-1]))"
      ],
      "execution_count": 48,
      "outputs": [
        {
          "output_type": "stream",
          "text": [
            "peppers. pickled of peck a picked piper peter\n"
          ],
          "name": "stdout"
        }
      ]
    },
    {
      "cell_type": "code",
      "metadata": {
        "id": "aaHQYz194fW7",
        "colab_type": "code",
        "colab": {
          "base_uri": "https://localhost:8080/",
          "height": 34
        },
        "outputId": "fc888acb-6b9e-48cc-d2cd-f2d8dfab48d6"
      },
      "source": [
        "#Write a python program to find below output:-\n",
        "\n",
        "#Input:- 'peter piper picked a peck of pickled peppers.'\n",
        "#Output:- '.sreppep delkcip fo kcep a dekcip repip retep'\n",
        "\n",
        "print(my_str[::-1])"
      ],
      "execution_count": 49,
      "outputs": [
        {
          "output_type": "stream",
          "text": [
            ".sreppep delkcip fo kcep a dekcip repip retep\n"
          ],
          "name": "stdout"
        }
      ]
    },
    {
      "cell_type": "code",
      "metadata": {
        "id": "LSgj9glC4feI",
        "colab_type": "code",
        "colab": {
          "base_uri": "https://localhost:8080/",
          "height": 34
        },
        "outputId": "d4e96617-d6c1-4516-9375-3077545578cc"
      },
      "source": [
        "#Write a python program to find below output:-\n",
        "\n",
        "#Input:- 'peter piper picked a peck of pickled peppers.'\n",
        "#Output:- 'retep repip dekcip a kcep fo delkcip .sreppep'\n",
        "\n",
        "print(' '.join([i[::-1] for i in my_str.split()]))"
      ],
      "execution_count": 50,
      "outputs": [
        {
          "output_type": "stream",
          "text": [
            "retep repip dekcip a kcep fo delkcip .sreppep\n"
          ],
          "name": "stdout"
        }
      ]
    },
    {
      "cell_type": "code",
      "metadata": {
        "id": "WUxPAkY94foo",
        "colab_type": "code",
        "colab": {
          "base_uri": "https://localhost:8080/",
          "height": 34
        },
        "outputId": "028a308d-62cf-415e-91c9-8e368a385de6"
      },
      "source": [
        "#Write a python program to find below output:-\n",
        "\n",
        "#Input:- 'peter piper picked a peck of pickled peppers.'\n",
        "#Output:- 'Peter Piper Picked A Peck Of Pickled Peppers.'\n",
        "\n",
        "print(my_str.title())"
      ],
      "execution_count": 51,
      "outputs": [
        {
          "output_type": "stream",
          "text": [
            "Peter Piper Picked A Peck Of Pickled Peppers.\n"
          ],
          "name": "stdout"
        }
      ]
    },
    {
      "cell_type": "code",
      "metadata": {
        "id": "IT1NSPxA4mww",
        "colab_type": "code",
        "colab": {
          "base_uri": "https://localhost:8080/",
          "height": 34
        },
        "outputId": "cffdeb72-285e-4a53-cf13-5ce47d59c0b3"
      },
      "source": [
        "#Write a python program to find below output:-\n",
        "\n",
        "#Input:- 'Peter Piper Picked A Peck Of Pickled Peppers.'\n",
        "#Output:- 'Peter piper picked a peck of pickled peppers.'\n",
        "\n",
        "my_str ='Peter Piper Picked A Peck Of Pickled Peppers.'\n",
        "my_str.lower()\n",
        "print(my_str.capitalize())\n"
      ],
      "execution_count": 53,
      "outputs": [
        {
          "output_type": "stream",
          "text": [
            "Peter piper picked a peck of pickled peppers.\n"
          ],
          "name": "stdout"
        }
      ]
    },
    {
      "cell_type": "code",
      "metadata": {
        "id": "3Gg65vSc4m3C",
        "colab_type": "code",
        "colab": {
          "base_uri": "https://localhost:8080/",
          "height": 34
        },
        "outputId": "4977b09b-9946-4f02-86da-bdaba70c38ac"
      },
      "source": [
        "#Write a python program to implement index method. If sub_str is found in my_str then it will print the index\n",
        "# of first occurrence of first character of matching string in my_str:-\n",
        "\n",
        "#Input:- my_str = 'Peter Piper Picked A Peck Of Pickled Peppers.', sub_str = 'Pickl'\n",
        "#Output:- 29\n",
        "\n",
        "my_str = 'Peter Piper Picked A Peck Of Pickled Peppers.'\n",
        "print(my_str.index('Pickl'))\n"
      ],
      "execution_count": 54,
      "outputs": [
        {
          "output_type": "stream",
          "text": [
            "29\n"
          ],
          "name": "stdout"
        }
      ]
    },
    {
      "cell_type": "code",
      "metadata": {
        "id": "iFRhp_JI4m6k",
        "colab_type": "code",
        "colab": {
          "base_uri": "https://localhost:8080/",
          "height": 34
        },
        "outputId": "5206b12c-1ac0-40ba-f5d2-87c2442ac6c8"
      },
      "source": [
        "#Write a python program to implement replace method. If sub_str is found in my_str then it will replace the first \n",
        "#occurrence of sub_str with new_str else it will will print sub_str not found:-\n",
        "\n",
        "#Input:- my_str = 'Peter Piper Picked A Peck Of Pickled Peppers.', sub_str = 'Peck', new_str = 'Pack'\n",
        "#Output:- 'Peter Piper Picked A Pack Of Pickled Peppers.'\n",
        "\n",
        "print(my_str.replace('Peck','Pack'))"
      ],
      "execution_count": 55,
      "outputs": [
        {
          "output_type": "stream",
          "text": [
            "Peter Piper Picked A Pack Of Pickled Peppers.\n"
          ],
          "name": "stdout"
        }
      ]
    },
    {
      "cell_type": "code",
      "metadata": {
        "id": "dQ9YhBBc4m9V",
        "colab_type": "code",
        "colab": {
          "base_uri": "https://localhost:8080/",
          "height": 34
        },
        "outputId": "abe489d0-6c8e-4bb3-cddb-d0d678077347"
      },
      "source": [
        "#Write a python program to find below output (implements rjust and ljust):-\n",
        "\n",
        "#Input:- 'Peter Piper Picked A Peck Of Pickled Peppers.', sub_str = 'Peck', \n",
        "#Output:- '*********************Peck********************'\n",
        "print('Peck'.center(len(my_str),'*'))\n",
        "\n"
      ],
      "execution_count": 56,
      "outputs": [
        {
          "output_type": "stream",
          "text": [
            "*********************Peck********************\n"
          ],
          "name": "stdout"
        }
      ]
    },
    {
      "cell_type": "code",
      "metadata": {
        "id": "w37BRLdt4tYT",
        "colab_type": "code",
        "colab": {}
      },
      "source": [
        ""
      ],
      "execution_count": null,
      "outputs": []
    },
    {
      "cell_type": "code",
      "metadata": {
        "id": "W64gCpeu4vaF",
        "colab_type": "code",
        "colab": {}
      },
      "source": [
        ""
      ],
      "execution_count": null,
      "outputs": []
    }
  ]
}