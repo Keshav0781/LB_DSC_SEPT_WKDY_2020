{
  "nbformat": 4,
  "nbformat_minor": 0,
  "metadata": {
    "colab": {
      "name": "List_Assignment.ipynb",
      "provenance": []
    },
    "kernelspec": {
      "name": "python3",
      "display_name": "Python 3"
    }
  },
  "cells": [
    {
      "cell_type": "code",
      "metadata": {
        "id": "gtlAv2oq9yzd",
        "outputId": "92c796e2-fc59-497a-e8cc-3ca09acffb84",
        "colab": {
          "base_uri": "https://localhost:8080/",
          "height": 51
        }
      },
      "source": [
        "#Write a Python program to find the sum of all elements in a list using loop.\n",
        "#Input:- [10,20,30,40]\n",
        "#Output:- 100\n",
        "\n",
        "#Write a Python program to find the sum of all elements in a list using loop.\n",
        "#Input:- [10,20,30,40]\n",
        "#Output:- 100\n",
        "\n",
        "sum = 0\n",
        "lst = eval(input(\"Enter a list: \"))\n",
        "for i in range(0,len(lst)):\n",
        "    sum = sum + lst[i]\n",
        "print(\"Sum of all elements in given list: \", sum)\n"
      ],
      "execution_count": 1,
      "outputs": [
        {
          "output_type": "stream",
          "text": [
            "Enter a list: [10,20,30,40]\n",
            "Sum of all elements in given list:  100\n"
          ],
          "name": "stdout"
        }
      ]
    },
    {
      "cell_type": "code",
      "metadata": {
        "id": "gTbA8psa93Y_",
        "outputId": "d24c64a1-44d0-49f4-a0ab-92c6d0393dd6",
        "colab": {
          "base_uri": "https://localhost:8080/",
          "height": 51
        }
      },
      "source": [
        "#Write a Python program to find the multiplication of all elements in a list using loop.\n",
        "#Input:- [10,20,30,40]\n",
        "#Output:- 240000\n",
        "\n",
        "Mul = 1\n",
        "lst = eval(input(\"Enter a list: \"))\n",
        "for i in range(0,len(lst)):\n",
        "        Mul = Mul * lst[i]\n",
        "print(\"Sum of all elements in given list: \", Mul)\n"
      ],
      "execution_count": 2,
      "outputs": [
        {
          "output_type": "stream",
          "text": [
            "Enter a list: [10,20,30,40]\n",
            "Sum of all elements in given list:  240000\n"
          ],
          "name": "stdout"
        }
      ]
    },
    {
      "cell_type": "code",
      "metadata": {
        "id": "XBCrEtLN94Lj",
        "outputId": "d47ae335-deb6-4342-dabb-5f947fa539af",
        "colab": {
          "base_uri": "https://localhost:8080/",
          "height": 51
        }
      },
      "source": [
        "#Write a Python program to find the largest number from a list using loop.\n",
        "#Input:- [10,100,2321, 1,200,2]\n",
        "#Output:- 2321\n",
        "\n",
        "\n",
        "lst = eval(input(\"Enter a list: \"))\n",
        "max = lst[0]\n",
        "for i in range(1,len(lst)):\n",
        "    if lst[i]>max:\n",
        "        max = lst[i]\n",
        "print (\"Largest element is: \", max)"
      ],
      "execution_count": 3,
      "outputs": [
        {
          "output_type": "stream",
          "text": [
            "Enter a list: [10,100,2321, 1,200,2]\n",
            "Largest element is:  2321\n"
          ],
          "name": "stdout"
        }
      ]
    },
    {
      "cell_type": "code",
      "metadata": {
        "id": "l3paUtbH94Vw",
        "outputId": "b215fc3b-e01d-48f3-a82b-c5e48a6ce806",
        "colab": {
          "base_uri": "https://localhost:8080/",
          "height": 51
        }
      },
      "source": [
        "#Write a Python program to find the smallest number from a list using loop.\n",
        "#Input:- [10,100,2321, 1,200,2]\n",
        "#Output:- 1\n",
        "\n",
        "lst = eval(input(\"Enter a list: \"))\n",
        "small = lst[0]\n",
        "for i in range(1,len(lst)):\n",
        "    if lst[i]<small:\n",
        "        small = lst[i]\n",
        "print (\"Smallest element is: \", small)\n"
      ],
      "execution_count": 4,
      "outputs": [
        {
          "output_type": "stream",
          "text": [
            "Enter a list: [10,100,2321, 1,200,2]\n",
            "Smallest element is:  1\n"
          ],
          "name": "stdout"
        }
      ]
    },
    {
      "cell_type": "code",
      "metadata": {
        "id": "JTVgy5VD94cE",
        "outputId": "025d72c6-1a05-44b6-dc42-2754e2cd7533",
        "colab": {
          "base_uri": "https://localhost:8080/",
          "height": 51
        }
      },
      "source": [
        "#Write a Python program to count the number of strings having length more than 2 and are palindrome in a list using loop.\n",
        "#Input:- ['ab', 'abc', 'aba', 'xyz', '1991']\n",
        "#Output:- 2\n",
        "\n",
        "def match():\n",
        "    lst = eval(input(\"Enter a list: \"))\n",
        "    ctr = 0\n",
        "\n",
        "    for word in lst:\n",
        "        if len(word) > 2 and word[0] == word[-1]:\n",
        "            ctr += 1\n",
        "    return ctr\n",
        "\n",
        "print(match())"
      ],
      "execution_count": 5,
      "outputs": [
        {
          "output_type": "stream",
          "text": [
            "Enter a list: ['ab', 'abc', 'aba', 'xyz', '1991']\n",
            "2\n"
          ],
          "name": "stdout"
        }
      ]
    },
    {
      "cell_type": "code",
      "metadata": {
        "id": "xs-ZGJbJ94gr",
        "outputId": "0ff9db5f-fb6a-438d-a2d1-1c962b159810",
        "colab": {
          "base_uri": "https://localhost:8080/",
          "height": 34
        }
      },
      "source": [
        "#Write a Python program to sort a list in ascending order using loop.\n",
        "#Input:- [100,10,1,298,65,483,49876,2,80,9,9213]\n",
        "#Output:- [1,2,9,10,65,80,100,298,483,9213,49876]\n",
        "\n",
        "\n",
        "lst = [100,10,1,298,65,483,49876,2,80,9,9213]\n",
        "for i in range(len(lst)-1):\n",
        "    for j in range(0,len(lst)-i-1):\n",
        "        if lst[j]>lst[j+1]:\n",
        "            lst[j],lst[j+1]=lst[j+1],lst[j]\n",
        "print(lst)"
      ],
      "execution_count": 6,
      "outputs": [
        {
          "output_type": "stream",
          "text": [
            "[1, 2, 9, 10, 65, 80, 100, 298, 483, 9213, 49876]\n"
          ],
          "name": "stdout"
        }
      ]
    },
    {
      "cell_type": "code",
      "metadata": {
        "id": "VhKQJizZ94kg",
        "outputId": "ea738e94-fac6-479e-e3cb-7d938fe9edf1",
        "colab": {
          "base_uri": "https://localhost:8080/",
          "height": 34
        }
      },
      "source": [
        "#Write a Python program to get a sorted list in increasing order of last element in each tuple in a given list using loop.\n",
        "#Input:- [(5,4),(9,1),(2,3),(5,9),(7,6),(5,5)]\n",
        "#output:- [(9,1),(2,3),(5,4),(5,5),(7,6),(5,9)]\n",
        "lst = [(5,4),(9,1),(2,3),(5,9),(7,6),(5,5)]\n",
        "lst.sort(key = lambda x:x[-1])\n",
        "print(lst)\n"
      ],
      "execution_count": 8,
      "outputs": [
        {
          "output_type": "stream",
          "text": [
            "[(9, 1), (2, 3), (5, 4), (5, 5), (7, 6), (5, 9)]\n"
          ],
          "name": "stdout"
        }
      ]
    },
    {
      "cell_type": "code",
      "metadata": {
        "id": "YJrCLYp694n_",
        "outputId": "8f2057e8-4668-42b5-f22b-45ddee8e3ae6",
        "colab": {
          "base_uri": "https://localhost:8080/",
          "height": 34
        }
      },
      "source": [
        "#Write a Python program to remove duplicate element from a list using loop.\n",
        "#Input:- [10,1,11,1,29,876,768,10,11,1,92,29,876]\n",
        "#Output:- [10,1,11,29,876,768,92]\n",
        "\n",
        "\n",
        "lst =[10,1,11,1,29,876,768,10,11,1,92,29,876]\n",
        "out_lst = []\n",
        "for i in lst:\n",
        "    if i not in out_lst:\n",
        "        out_lst.append(i)\n",
        "print(out_lst)"
      ],
      "execution_count": 9,
      "outputs": [
        {
          "output_type": "stream",
          "text": [
            "[10, 1, 11, 29, 876, 768, 92]\n"
          ],
          "name": "stdout"
        }
      ]
    },
    {
      "cell_type": "code",
      "metadata": {
        "id": "koYe4YCu94rh",
        "outputId": "e0f581bb-288c-4756-ea29-2076bf5cf979",
        "colab": {
          "base_uri": "https://localhost:8080/",
          "height": 51
        }
      },
      "source": [
        "#Write a Python program to check a list is empty or not?\n",
        "#Input:- []\n",
        "#Output:- List is empty\n",
        "#Input:- [10,20,30]\n",
        "#Output:- List is not empty\n",
        "\n",
        "lst = eval(input(\"Enter a list\"))\n",
        "if len(lst)==0:\n",
        "    print(\"List is empty\")\n",
        "else :\n",
        "    print(\"List is not empty\")\n",
        "  \n"
      ],
      "execution_count": 11,
      "outputs": [
        {
          "output_type": "stream",
          "text": [
            "Enter a list[]\n",
            "List is empty\n"
          ],
          "name": "stdout"
        }
      ]
    },
    {
      "cell_type": "code",
      "metadata": {
        "id": "mES1WANa94u5",
        "outputId": "f9bd6fad-c9cd-4456-c7ed-46e895d82aa3",
        "colab": {
          "base_uri": "https://localhost:8080/",
          "height": 34
        }
      },
      "source": [
        "#Write a Python program to copy a list using loop.\n",
        "#inp_lst = [10,10.20,10+20j, 'Python', [10,20], (10,20)]\n",
        "#out_lst = [10,10.20,10+20j, 'Python', [10,20], (10,20)]\n",
        "\n",
        "\n",
        "lst =[10,10.20,10+20j, 'Python', [10,20], (10,20)]\n",
        "out_lst = []\n",
        "for i in lst:\n",
        "        out_lst.append(i)\n",
        "print(out_lst)"
      ],
      "execution_count": 12,
      "outputs": [
        {
          "output_type": "stream",
          "text": [
            "[10, 10.2, (10+20j), 'Python', [10, 20], (10, 20)]\n"
          ],
          "name": "stdout"
        }
      ]
    },
    {
      "cell_type": "code",
      "metadata": {
        "id": "CpBh31WO94yi",
        "outputId": "aa9b9908-d8a6-41ad-9b19-b81821babec8",
        "colab": {
          "base_uri": "https://localhost:8080/",
          "height": 34
        }
      },
      "source": [
        "#Write a Python program to find the list of words that are longer than or equal to 4 from a given string.\n",
        "#Input:- 'How much wood would a woodchuck chuck if a woodchuck could chuck wood'\n",
        "#Output:- ['much', 'wood', 'would', 'woodchuck', 'chuck', 'could']\n",
        "#Note:- Duplicate should be avoided.\n",
        "\n",
        "str='How much wood would a woodchuck chuck if a woodchuck could chuck wood'\n",
        "my_str=[i for i in str.split() if len(i) >=4]\n",
        "lst=[]\n",
        "for j in my_str:\n",
        "    if j not in lst:\n",
        "        lst.append(j)\n",
        "print(lst)\n"
      ],
      "execution_count": 13,
      "outputs": [
        {
          "output_type": "stream",
          "text": [
            "['much', 'wood', 'would', 'woodchuck', 'chuck', 'could']\n"
          ],
          "name": "stdout"
        }
      ]
    },
    {
      "cell_type": "code",
      "metadata": {
        "id": "YVfj0fgZ9416",
        "outputId": "391bffc4-9363-492e-ec75-6ddfa0358df1",
        "colab": {
          "base_uri": "https://localhost:8080/",
          "height": 68
        }
      },
      "source": [
        "#Write a Python program which takes two list as input and returns True if they have at least 3 common elements.\n",
        "#inp_lst1 = [10,20,'Python', 10.20, 10+20j, [10,20,30], (10,20,30)]\n",
        "#inp_lst2 = [(10,20,30),1,20+3j,100.2, 10+20j, [10,20,30],'Python']\n",
        "#Output:- True\n",
        "\n",
        "lst1 = eval(input(\"Enter first list value\"))\n",
        "lst2 = eval(input(\"Enter second list value\"))\n",
        "count = 0\n",
        "for i in lst1:\n",
        "    if i in lst2:\n",
        "        count += 1\n",
        "if count>=3:\n",
        "    print(True)\n"
      ],
      "execution_count": 14,
      "outputs": [
        {
          "output_type": "stream",
          "text": [
            "Enter first list value[10,20,'Python', 10.20, 10+20j, [10,20,30], (10,20,30)]\n",
            "Enter second list value[(10,20,30),1,20+3j,100.2, 10+20j, [10,20,30],'Python']\n",
            "True\n"
          ],
          "name": "stdout"
        }
      ]
    },
    {
      "cell_type": "code",
      "metadata": {
        "id": "7vwc3pjR945O",
        "outputId": "6940ba11-457b-4239-c385-4c6c6b68cb88",
        "colab": {
          "base_uri": "https://localhost:8080/",
          "height": 34
        }
      },
      "source": [
        "#Write a Python program to create a 4X4 2D matrix with below elements using loop and list comprehension both.\n",
        "#Output:- [[0,0,0,0],[0,1,2,3],[0,2,4,6],[0,3,6,9]]\n",
        "\n",
        "\n",
        "[[i*j for j in range(4)] for i in range(4)]"
      ],
      "execution_count": 15,
      "outputs": [
        {
          "output_type": "execute_result",
          "data": {
            "text/plain": [
              "[[0, 0, 0, 0], [0, 1, 2, 3], [0, 2, 4, 6], [0, 3, 6, 9]]"
            ]
          },
          "metadata": {
            "tags": []
          },
          "execution_count": 15
        }
      ]
    },
    {
      "cell_type": "code",
      "metadata": {
        "id": "Pxafor84948b",
        "outputId": "2ff2629e-62ad-446d-aa1b-c2865f84843d",
        "colab": {
          "base_uri": "https://localhost:8080/",
          "height": 221
        }
      },
      "source": [
        "#Write a Python program to create a 3X4X6 3D matrix wiith below elements using loop\n",
        "#Output:- \n",
        "# [\n",
        "#     [[0,0,0,0,0,0],[0,0,0,0,0,0],[0,0,0,0,0,0],[0,0,0,0,0,0]],\n",
        "#     [[0,0,0,0,0,0],[1,1,1,1,1,1],[2,2,2,2,2,2],[3,3,3,3,3,3]],\n",
        "#     [[0,0,0,0,0,0],[2,2,2,2,2,2],[4,4,4,4,4,4],[6,6,6,6,6,6]]\n",
        "# ]\n",
        "\n",
        "\n",
        "[[[i*j for k in range(6)] for j in range(4)] for i in range(3)]"
      ],
      "execution_count": 16,
      "outputs": [
        {
          "output_type": "execute_result",
          "data": {
            "text/plain": [
              "[[[0, 0, 0, 0, 0, 0],\n",
              "  [0, 0, 0, 0, 0, 0],\n",
              "  [0, 0, 0, 0, 0, 0],\n",
              "  [0, 0, 0, 0, 0, 0]],\n",
              " [[0, 0, 0, 0, 0, 0],\n",
              "  [1, 1, 1, 1, 1, 1],\n",
              "  [2, 2, 2, 2, 2, 2],\n",
              "  [3, 3, 3, 3, 3, 3]],\n",
              " [[0, 0, 0, 0, 0, 0],\n",
              "  [2, 2, 2, 2, 2, 2],\n",
              "  [4, 4, 4, 4, 4, 4],\n",
              "  [6, 6, 6, 6, 6, 6]]]"
            ]
          },
          "metadata": {
            "tags": []
          },
          "execution_count": 16
        }
      ]
    },
    {
      "cell_type": "code",
      "metadata": {
        "id": "lYNv8gk794_p",
        "outputId": "6229d69e-afa5-494f-a11a-ab2ed0908d69",
        "colab": {
          "base_uri": "https://localhost:8080/",
          "height": 51
        }
      },
      "source": [
        "#Write a Python program which takes a list of numbers as input and prints a new list after removing even numbers from it.\n",
        "#Input:- [10,21,22,98,87,45,33,1,2,100]\n",
        "#Output:- [21,87,45,33,1]\n",
        "\n",
        "lst = eval(input(\"Enter  list value: \"))\n",
        "new_list =[]\n",
        "\n",
        "for i in lst:\n",
        "    if i%2==1 :\n",
        "        new_list.append(i)\n",
        "print(new_list)\n"
      ],
      "execution_count": 17,
      "outputs": [
        {
          "output_type": "stream",
          "text": [
            "Enter  list value: [10,21,22,98,87,45,33,1,2,100]\n",
            "[21, 87, 45, 33, 1]\n"
          ],
          "name": "stdout"
        }
      ]
    },
    {
      "cell_type": "code",
      "metadata": {
        "id": "3BaCb-rB95B7",
        "outputId": "8b2b1de5-e2cf-47af-ad3a-0df25b10d2ba",
        "colab": {
          "base_uri": "https://localhost:8080/",
          "height": 51
        }
      },
      "source": [
        "#Write a Python program which takes a list from the user and prints it after reshuffling the elements of the list.\n",
        "#Input:- [10,21,22,98,87,45,33,1,2,100]\n",
        "#Output:- [1,87,21,10,33,2,100,45,98,22] (It may be any randon list but with same elements)\n",
        "\n",
        "\n",
        "import random\n",
        "lst = eval(input(\"Enter  list value: \"))\n",
        "random.shuffle(lst)\n",
        "print(lst)"
      ],
      "execution_count": 18,
      "outputs": [
        {
          "output_type": "stream",
          "text": [
            "Enter  list value: [10,21,22,98,87,45,33,1,2,100]\n",
            "[45, 87, 2, 100, 1, 21, 98, 10, 22, 33]\n"
          ],
          "name": "stdout"
        }
      ]
    }
  ]
}